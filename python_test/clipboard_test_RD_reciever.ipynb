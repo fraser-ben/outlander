{
 "cells": [
  {
   "cell_type": "code",
   "execution_count": 1,
   "metadata": {},
   "outputs": [
    {
     "name": "stdout",
     "output_type": "stream",
     "text": [
      "Got an exception, exit\n",
      "observer join exit\n"
     ]
    }
   ],
   "source": [
    "import os\n",
    "import time\n",
    "from watchdog.observers import Observer\n",
    "from watchdog.events import FileSystemEventHandler\n",
    "import pyperclip as pc\n",
    "\n",
    "class MyHandler(FileSystemEventHandler):\n",
    "    def on_modified(self, event):\n",
    "        src_path = str(event.src_path)\n",
    "        print(f'event type: {event.event_type}, path {event.src_path}')\n",
    "        if src_path.find('text_transfer.txt') > 0:\n",
    "            print(f'the file: {src_path} is changed')\n",
    "            with open(src_path, 'r') as src_file:\n",
    "                print(src_file.read())\n",
    "\n",
    "# path = 'C:\\\\msys64\\\\home\\\\benho\\\\python_test\\\\text_transfer.txt'\n",
    "event_handler = MyHandler()\n",
    "observer = Observer()\n",
    "observer.schedule(event_handler, path='C:\\\\msys64\\\\home\\\\benho\\\\python_test\\\\', recursive=False)\n",
    "observer.start()\n",
    "try:\n",
    "    while True:\n",
    "        time.sleep(1)\n",
    "except:\n",
    "    print('Got an exception, exit')\n",
    "    observer.stop()\n",
    "    pass\n",
    "\n",
    "print('observer join exit')\n",
    "observer.join()"
   ]
  }
 ],
 "metadata": {
  "kernelspec": {
   "display_name": "base",
   "language": "python",
   "name": "python3"
  },
  "language_info": {
   "codemirror_mode": {
    "name": "ipython",
    "version": 3
   },
   "file_extension": ".py",
   "mimetype": "text/x-python",
   "name": "python",
   "nbconvert_exporter": "python",
   "pygments_lexer": "ipython3",
   "version": "3.11.5"
  }
 },
 "nbformat": 4,
 "nbformat_minor": 2
}
