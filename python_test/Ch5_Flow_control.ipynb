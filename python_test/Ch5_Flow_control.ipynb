{
 "cells": [
  {
   "cell_type": "markdown",
   "metadata": {},
   "source": [
    "# Ch 5 Flow control - if"
   ]
  },
  {
   "cell_type": "markdown",
   "metadata": {},
   "source": [
    "## Statement operations\n",
    "\n",
    "| Statement operations | Illustration | Example | Illustration       |\n",
    "| ---                  | ---          | ---     | ---                |\n",
    "| >                    | larger than  | a > b   | Is a larger than b |\n",
    "| >=                   | larger than or equal to | \n",
    "| <\n",
    "| <=\n",
    "| ==\n",
    "| !="
   ]
  },
  {
   "cell_type": "code",
   "execution_count": 6,
   "metadata": {},
   "outputs": [
    {
     "name": "stdout",
     "output_type": "stream",
     "text": [
      "True\n",
      "True\n",
      "False\n",
      "False\n",
      "True\n"
     ]
    }
   ],
   "source": [
    "x = 10 > 8\n",
    "print(x)\n",
    "x = 8 <= 10\n",
    "print(x)\n",
    "\n",
    "print(10 < 9)\n",
    "print(1 > 2 and 2 > 3)\n",
    "\n",
    "print(not(10 > 11))"
   ]
  },
  {
   "cell_type": "code",
   "execution_count": 7,
   "metadata": {},
   "outputs": [
    {
     "data": {
      "text/plain": [
       "False"
      ]
     },
     "execution_count": 7,
     "metadata": {},
     "output_type": "execute_result"
    }
   ],
   "source": [
    "False and True"
   ]
  },
  {
   "cell_type": "code",
   "execution_count": 8,
   "metadata": {},
   "outputs": [
    {
     "data": {
      "text/plain": [
       "False"
      ]
     },
     "execution_count": 8,
     "metadata": {},
     "output_type": "execute_result"
    }
   ],
   "source": [
    "False and 5"
   ]
  },
  {
   "cell_type": "code",
   "execution_count": 9,
   "metadata": {},
   "outputs": [
    {
     "data": {
      "text/plain": [
       "0"
      ]
     },
     "execution_count": 9,
     "metadata": {},
     "output_type": "execute_result"
    }
   ],
   "source": [
    "0 and 1"
   ]
  },
  {
   "cell_type": "code",
   "execution_count": 10,
   "metadata": {},
   "outputs": [
    {
     "data": {
      "text/plain": [
       "False"
      ]
     },
     "execution_count": 10,
     "metadata": {},
     "output_type": "execute_result"
    }
   ],
   "source": [
    "True and False"
   ]
  },
  {
   "cell_type": "code",
   "execution_count": 11,
   "metadata": {},
   "outputs": [
    {
     "data": {
      "text/plain": [
       "5"
      ]
     },
     "execution_count": 11,
     "metadata": {},
     "output_type": "execute_result"
    }
   ],
   "source": [
    "True and 5"
   ]
  },
  {
   "cell_type": "code",
   "execution_count": 12,
   "metadata": {},
   "outputs": [
    {
     "data": {
      "text/plain": [
       "5"
      ]
     },
     "execution_count": 12,
     "metadata": {},
     "output_type": "execute_result"
    }
   ],
   "source": [
    "-5 and 5"
   ]
  },
  {
   "cell_type": "code",
   "execution_count": 13,
   "metadata": {},
   "outputs": [
    {
     "data": {
      "text/plain": [
       "True"
      ]
     },
     "execution_count": 13,
     "metadata": {},
     "output_type": "execute_result"
    }
   ],
   "source": [
    "False or True"
   ]
  },
  {
   "cell_type": "code",
   "execution_count": 14,
   "metadata": {},
   "outputs": [
    {
     "data": {
      "text/plain": [
       "5"
      ]
     },
     "execution_count": 14,
     "metadata": {},
     "output_type": "execute_result"
    }
   ],
   "source": [
    "0 or 5"
   ]
  },
  {
   "cell_type": "code",
   "execution_count": 15,
   "metadata": {},
   "outputs": [
    {
     "data": {
      "text/plain": [
       "-5"
      ]
     },
     "execution_count": 15,
     "metadata": {},
     "output_type": "execute_result"
    }
   ],
   "source": [
    "-5 or 10"
   ]
  },
  {
   "cell_type": "code",
   "execution_count": 16,
   "metadata": {},
   "outputs": [
    {
     "name": "stdout",
     "output_type": "stream",
     "text": [
      "False\n",
      "False\n",
      "True\n"
     ]
    }
   ],
   "source": [
    "print(not 5)\n",
    "print(not -5)\n",
    "print(not 0)"
   ]
  },
  {
   "cell_type": "code",
   "execution_count": 17,
   "metadata": {},
   "outputs": [
    {
     "name": "stdout",
     "output_type": "stream",
     "text": [
      "20 is even number\n"
     ]
    }
   ],
   "source": [
    "num = eval(input(\"Please input a number:\"))\n",
    "reminder = num % 2\n",
    "print(f'{num} is odd' if reminder else f'{num} is even number')"
   ]
  },
  {
   "cell_type": "code",
   "execution_count": 21,
   "metadata": {},
   "outputs": [
    {
     "name": "stdout",
     "output_type": "stream",
     "text": [
      "The max_ of (2, 10) is 10\n",
      "The min_ of (2, 10) is 2\n"
     ]
    }
   ],
   "source": [
    "x, y = eval(input(\"Please input 2 numbers:\"))\n",
    "max_ = x if x > y else y\n",
    "print(f\"The max_ of ({x}, {y}) is {max_}\")\n",
    "min_ = x if x < y else y\n",
    "print(f\"The min_ of ({x}, {y}) is {min_}\")"
   ]
  },
  {
   "cell_type": "code",
   "execution_count": 31,
   "metadata": {},
   "outputs": [
    {
     "name": "stdout",
     "output_type": "stream",
     "text": [
      "89\n",
      "The character is a capital letter\n"
     ]
    }
   ],
   "source": [
    "character = input(\"Please input a character:\")\n",
    "print(ord(character))\n",
    "if ord(character) >= ord('A') and ord(character) <= ord('Z'):\n",
    "    print(\"The character is a capital letter\")\n",
    "elif ord(character) >= ord('a') and ord(character) <= ord('z'):\n",
    "    print(\"The character is a lowercase letter\")\n",
    "elif ord(character) >= ord('0') and ord(character) <= ord('9'):\n",
    "    print(\"The character is a digit\")\n",
    "else:\n",
    "    print('The character is a special char.')"
   ]
  },
  {
   "cell_type": "markdown",
   "metadata": {},
   "source": [
    "### None type"
   ]
  },
  {
   "cell_type": "code",
   "execution_count": 32,
   "metadata": {},
   "outputs": [
    {
     "name": "stdout",
     "output_type": "stream",
     "text": [
      "Undefined flag\n",
      "flag is undefined \n"
     ]
    }
   ],
   "source": [
    "flag = None\n",
    "if not flag:\n",
    "    print('Undefined flag')\n",
    "\n",
    "if flag:\n",
    "    print('flag is defined ')\n",
    "else:\n",
    "    print('flag is undefined ')"
   ]
  },
  {
   "cell_type": "code",
   "execution_count": 33,
   "metadata": {},
   "outputs": [
    {
     "name": "stdout",
     "output_type": "stream",
     "text": [
      "BMI is 23.38868655818771\n",
      "Your BMI is ideal\n"
     ]
    }
   ],
   "source": [
    "'''\n",
    "    BMI (Body Mass Index) calculation - 1\n",
    "'''\n",
    "height = eval(input(\"Please input your height(cm):\"))\n",
    "weight = eval(input(\"Please input your weight(kg):\"))\n",
    "\n",
    "BMI = weight / (height / 100) ** 2\n",
    "print(f'BMI is {BMI}')\n",
    "\n",
    "if BMI >= 28:\n",
    "    print(\"You should lose some weight\")\n",
    "else:\n",
    "    print(\"Your BMI is ideal\")"
   ]
  },
  {
   "cell_type": "code",
   "execution_count": null,
   "metadata": {},
   "outputs": [],
   "source": [
    "'''\n",
    "    BMI (Body Mass Index) calculation - 1\n",
    "'''\n",
    "height = eval(input(\"Please input your height(cm):\"))\n",
    "weight = eval(input(\"Please input your weight(kg):\"))\n",
    "\n",
    "if BMI := weight / (height / 100) ** 2 >= 28:\n",
    "    print(f\"BMI is {BMI}, you should lose some weight\")\n",
    "else:\n",
    "    print(f\"Your BMI({BMI}) is ideal\")"
   ]
  }
 ],
 "metadata": {
  "kernelspec": {
   "display_name": "base",
   "language": "python",
   "name": "python3"
  },
  "language_info": {
   "codemirror_mode": {
    "name": "ipython",
    "version": 3
   },
   "file_extension": ".py",
   "mimetype": "text/x-python",
   "name": "python",
   "nbconvert_exporter": "python",
   "pygments_lexer": "ipython3",
   "version": "3.11.5"
  }
 },
 "nbformat": 4,
 "nbformat_minor": 2
}
