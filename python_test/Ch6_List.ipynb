{
 "cells": [
  {
   "cell_type": "code",
   "execution_count": 1,
   "metadata": {},
   "outputs": [
    {
     "data": {
      "text/plain": [
       "['apple', 'banana', 'orange']"
      ]
     },
     "execution_count": 1,
     "metadata": {},
     "output_type": "execute_result"
    }
   ],
   "source": [
    "fruits = ['apple', 'banana', 'orange']\n",
    "fruits"
   ]
  },
  {
   "cell_type": "code",
   "execution_count": 3,
   "metadata": {},
   "outputs": [
    {
     "name": "stdout",
     "output_type": "stream",
     "text": [
      "['0', '1', '2']\n",
      "['0', '1', '2', '3', '4', '5', '6']\n",
      "['3', '4', '5', '6', '7', '8', '9']\n",
      "['7', '8', '9']\n"
     ]
    }
   ],
   "source": [
    "x = ['0', '1', '2', '3', '4', '5', '6', '7', '8', '9']\n",
    "print(x[:3])\n",
    "print(x[:-3])\n",
    "print(x[3:])\n",
    "print(x[-3:])"
   ]
  },
  {
   "cell_type": "markdown",
   "metadata": {},
   "source": [
    "## Max, Min, sum, len"
   ]
  },
  {
   "cell_type": "code",
   "execution_count": 9,
   "metadata": {},
   "outputs": [
    {
     "name": "stdout",
     "output_type": "stream",
     "text": [
      "18\n",
      "23\n",
      "103\n",
      "5\n"
     ]
    },
    {
     "data": {
      "text/plain": [
       "['__add__',\n",
       " '__class__',\n",
       " '__class_getitem__',\n",
       " '__contains__',\n",
       " '__delattr__',\n",
       " '__delitem__',\n",
       " '__dir__',\n",
       " '__doc__',\n",
       " '__eq__',\n",
       " '__format__',\n",
       " '__ge__',\n",
       " '__getattribute__',\n",
       " '__getitem__',\n",
       " '__getstate__',\n",
       " '__gt__',\n",
       " '__hash__',\n",
       " '__iadd__',\n",
       " '__imul__',\n",
       " '__init__',\n",
       " '__init_subclass__',\n",
       " '__iter__',\n",
       " '__le__',\n",
       " '__len__',\n",
       " '__lt__',\n",
       " '__mul__',\n",
       " '__ne__',\n",
       " '__new__',\n",
       " '__reduce__',\n",
       " '__reduce_ex__',\n",
       " '__repr__',\n",
       " '__reversed__',\n",
       " '__rmul__',\n",
       " '__setattr__',\n",
       " '__setitem__',\n",
       " '__sizeof__',\n",
       " '__str__',\n",
       " '__subclasshook__',\n",
       " 'append',\n",
       " 'clear',\n",
       " 'copy',\n",
       " 'count',\n",
       " 'extend',\n",
       " 'index',\n",
       " 'insert',\n",
       " 'pop',\n",
       " 'remove',\n",
       " 'reverse',\n",
       " 'sort']"
      ]
     },
     "execution_count": 9,
     "metadata": {},
     "output_type": "execute_result"
    }
   ],
   "source": [
    "james = [23, 19, 22, 21, 18]\n",
    "print(min(james))\n",
    "print(max(james))\n",
    "print(sum(james))\n",
    "print(len(james))\n",
    "\n",
    "dir(james) # list object methods"
   ]
  },
  {
   "cell_type": "markdown",
   "metadata": {},
   "source": [
    "## List addition (+, +=)"
   ]
  },
  {
   "cell_type": "code",
   "execution_count": 11,
   "metadata": {},
   "outputs": [
    {
     "name": "stdout",
     "output_type": "stream",
     "text": [
      "['Toyota', 'Nissan', 'Honda', 'Audi', 'BMW']\n",
      "['Toyota', 'Nissan', 'Honda', 'Audi', 'BMW']\n"
     ]
    }
   ],
   "source": [
    "cars1 = ['Toyota', 'Nissan', 'Honda']\n",
    "cars2 = ['Audi', 'BMW']\n",
    "\n",
    "cars = cars1 + cars2\n",
    "print(cars)\n",
    "\n",
    "cars1 += cars2\n",
    "print(cars1)\n"
   ]
  },
  {
   "cell_type": "markdown",
   "metadata": {},
   "source": [
    "## List multiplication (*)"
   ]
  },
  {
   "cell_type": "code",
   "execution_count": 13,
   "metadata": {},
   "outputs": [
    {
     "name": "stdout",
     "output_type": "stream",
     "text": [
      "['Toyota', 'Nissan', 'Honda', 'Toyota', 'Nissan', 'Honda']\n"
     ]
    }
   ],
   "source": [
    "cars1 = ['Toyota', 'Nissan', 'Honda']\n",
    "cars2 = ['Audi', 'BMW']\n",
    "\n",
    "cars = cars1 * 2\n",
    "print(cars)"
   ]
  },
  {
   "cell_type": "code",
   "execution_count": 15,
   "metadata": {},
   "outputs": [
    {
     "name": "stdout",
     "output_type": "stream",
     "text": [
      "[1, 3, 5, 1, 3, 5, 1, 3, 5, 1, 3, 5, 1, 3, 5]\n",
      "[]\n"
     ]
    }
   ],
   "source": [
    "nums = [1, 3, 5]\n",
    "numlist = nums * 5\n",
    "print(numlist)\n",
    "\n",
    "x = []\n",
    "xlist = x * 3\n",
    "print(xlist)"
   ]
  },
  {
   "cell_type": "markdown",
   "metadata": {},
   "source": [
    "## del from a list"
   ]
  },
  {
   "cell_type": "code",
   "execution_count": 16,
   "metadata": {},
   "outputs": [
    {
     "name": "stdout",
     "output_type": "stream",
     "text": [
      "[3, 5]\n"
     ]
    }
   ],
   "source": [
    "nums = [1, 3, 5]\n",
    "del nums[0]\n",
    "print(nums)"
   ]
  },
  {
   "cell_type": "code",
   "execution_count": 20,
   "metadata": {},
   "outputs": [
    {
     "name": "stdout",
     "output_type": "stream",
     "text": [
      "1 2 [3, 4, 5, 6]\n",
      "<class 'int'>\n",
      "<class 'int'>\n",
      "<class 'list'>\n",
      "1 [2, 3, 4, 5, 6, 7] 8\n"
     ]
    }
   ],
   "source": [
    "a, b, *c = 1, 2, 3, 4, 5, 6\n",
    "print(a, b, c)\n",
    "print(type(a))\n",
    "print(type(b))\n",
    "print(type(c))\n",
    "\n",
    "a, *b, c = 1, 2, 3, 4, 5, 6, 7, 8\n",
    "print(a, b, c)"
   ]
  },
  {
   "cell_type": "markdown",
   "metadata": {},
   "source": [
    "## Simple concept of object orientation\n",
    "#### EX: string methods\n",
    "    lower()\n",
    "    upper()\n",
    "    title()\n",
    "    swapcase()\n",
    "    rstrip()\n",
    "    lstrip()\n",
    "    strip()\n",
    "    center()\n",
    "    rjust()\n",
    "    ljust()\n",
    "    zfill()"
   ]
  },
  {
   "cell_type": "code",
   "execution_count": 23,
   "metadata": {},
   "outputs": [
    {
     "name": "stdout",
     "output_type": "stream",
     "text": [
      "I Love Python\n",
      "BMW, BENZ\n"
     ]
    }
   ],
   "source": [
    "x = 'i love python'\n",
    "print(x.title())\n",
    "\n",
    "cars = ['bmw', 'benz', 'audi']\n",
    "print(cars[0].upper())"
   ]
  },
  {
   "cell_type": "code",
   "execution_count": null,
   "metadata": {},
   "outputs": [],
   "source": []
  }
 ],
 "metadata": {
  "kernelspec": {
   "display_name": "base",
   "language": "python",
   "name": "python3"
  },
  "language_info": {
   "codemirror_mode": {
    "name": "ipython",
    "version": 3
   },
   "file_extension": ".py",
   "mimetype": "text/x-python",
   "name": "python",
   "nbconvert_exporter": "python",
   "pygments_lexer": "ipython3",
   "version": "3.11.5"
  }
 },
 "nbformat": 4,
 "nbformat_minor": 2
}
