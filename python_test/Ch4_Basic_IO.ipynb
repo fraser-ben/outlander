{
 "cells": [
  {
   "cell_type": "markdown",
   "metadata": {},
   "source": [
    "# Basic IO"
   ]
  },
  {
   "cell_type": "markdown",
   "metadata": {},
   "source": [
    "## Python help()"
   ]
  },
  {
   "cell_type": "code",
   "execution_count": 1,
   "metadata": {},
   "outputs": [
    {
     "name": "stdout",
     "output_type": "stream",
     "text": [
      "Help on built-in function print in module builtins:\n",
      "\n",
      "print(*args, sep=' ', end='\\n', file=None, flush=False)\n",
      "    Prints the values to a stream, or to sys.stdout by default.\n",
      "    \n",
      "    sep\n",
      "      string inserted between values, default a space.\n",
      "    end\n",
      "      string appended after the last value, default a newline.\n",
      "    file\n",
      "      a file-like object (stream); defaults to the current sys.stdout.\n",
      "    flush\n",
      "      whether to forcibly flush the stream.\n",
      "\n"
     ]
    }
   ],
   "source": [
    "help(print)"
   ]
  },
  {
   "cell_type": "markdown",
   "metadata": {},
   "source": [
    "## print format\n",
    "\n",
    "* format by %\n",
    "* using {} and format\n",
    "* using f-string"
   ]
  },
  {
   "cell_type": "code",
   "execution_count": 6,
   "metadata": {},
   "outputs": [
    {
     "name": "stdout",
     "output_type": "stream",
     "text": [
      "num1 + num2 =  555\n",
      "string num1 + num2 =  @@@@ 222333\n",
      "num1 + num2 =  555\tstring num1 + num2 =  @@@@ 222333\n"
     ]
    }
   ],
   "source": [
    "num1 = 222\n",
    "num2 = 333\n",
    "num3 = num1 + num2\n",
    "print('num1 + num2 = ', num3)\n",
    "\n",
    "str1 = str(num1) + str(num2)\n",
    "print('string num1 + num2 = ', str1, sep=' @@@@ ')\n",
    "\n",
    "# print them in one line\n",
    "print('num1 + num2 = ', num3, end = '\\t')\n",
    "print('string num1 + num2 = ', str1, sep=' @@@@ ')"
   ]
  },
  {
   "cell_type": "markdown",
   "metadata": {},
   "source": [
    "* format by %"
   ]
  },
  {
   "cell_type": "code",
   "execution_count": 10,
   "metadata": {},
   "outputs": [
    {
     "data": {
      "text/plain": [
       "'PinPin'"
      ]
     },
     "execution_count": 10,
     "metadata": {},
     "output_type": "execute_result"
    }
   ],
   "source": [
    "'%s' % 'PinPin'"
   ]
  },
  {
   "cell_type": "code",
   "execution_count": 11,
   "metadata": {},
   "outputs": [
    {
     "data": {
      "text/plain": [
       "'999'"
      ]
     },
     "execution_count": 11,
     "metadata": {},
     "output_type": "execute_result"
    }
   ],
   "source": [
    "'%d' % 999"
   ]
  },
  {
   "cell_type": "code",
   "execution_count": 13,
   "metadata": {},
   "outputs": [
    {
     "data": {
      "text/plain": [
       "'PinPin is 34 years old'"
      ]
     },
     "execution_count": 13,
     "metadata": {},
     "output_type": "execute_result"
    }
   ],
   "source": [
    "'%s is %d years old' % ('PinPin', 34)"
   ]
  },
  {
   "cell_type": "code",
   "execution_count": 14,
   "metadata": {},
   "outputs": [
    {
     "name": "stdout",
     "output_type": "stream",
     "text": [
      "PinPin is 35 years old\n"
     ]
    }
   ],
   "source": [
    "my_name = 'PinPin'\n",
    "age = 35\n",
    "\n",
    "print('%s is %d years old' % (my_name, age))"
   ]
  },
  {
   "cell_type": "code",
   "execution_count": 20,
   "metadata": {},
   "outputs": [
    {
     "name": "stdout",
     "output_type": "stream",
     "text": [
      "the x binary expression is 0xF\n",
      "and octal expression is 17\n"
     ]
    }
   ],
   "source": [
    "x = 15\n",
    "print('the x binary expression is 0x%X\\nand octal expression is %o' % (x, x))"
   ]
  },
  {
   "cell_type": "code",
   "execution_count": 24,
   "metadata": {},
   "outputs": [
    {
     "name": "stdout",
     "output_type": "stream",
     "text": [
      "1.000000e+07\n",
      "1.000000E+07\n",
      "1.230000e-04\n"
     ]
    }
   ],
   "source": [
    "x = 10000000\n",
    "print('%e' % x)\n",
    "print('%E' % x)\n",
    "y = 0.000123\n",
    "print('%e' % y)"
   ]
  },
  {
   "cell_type": "code",
   "execution_count": 28,
   "metadata": {},
   "outputs": [
    {
     "name": "stdout",
     "output_type": "stream",
     "text": [
      "x = /   100/\n",
      "y = / 10.50/\n",
      "x = /100   /\n",
      "y = /10.50 /\n"
     ]
    }
   ],
   "source": [
    "x = 100\n",
    "y = 10.5\n",
    "print('x = /%6d/' % x) # left alignment\n",
    "print('y = /%6.2f/' % y) # left alignment\n",
    "print('x = /%-6d/' % x) # left alignment\n",
    "print('y = /%-6.2f/' % y) # left alignment\n"
   ]
  },
  {
   "cell_type": "code",
   "execution_count": 4,
   "metadata": {},
   "outputs": [
    {
     "name": "stdout",
     "output_type": "stream",
     "text": [
      "/100   /\n",
      "/10.50 /\n",
      "/Deep  /\n"
     ]
    }
   ],
   "source": [
    "x = 100\n",
    "print('/%-6d/' % x)\n",
    "y = 10.5\n",
    "print('/%-6.2f/' % y)\n",
    "s = 'Deep'\n",
    "print('/%-6s/' % s)"
   ]
  },
  {
   "cell_type": "markdown",
   "metadata": {},
   "source": [
    "* Using {} and format"
   ]
  },
  {
   "cell_type": "code",
   "execution_count": 11,
   "metadata": {},
   "outputs": [
    {
     "name": "stdout",
     "output_type": "stream",
     "text": [
      "PinPin's 1 times test score is 98\n",
      "PinPin's 1 times test score is 98\n",
      "PinPin's 1 times test score is 98\n"
     ]
    }
   ],
   "source": [
    "score = 98\n",
    "name = 'PinPin'\n",
    "count = 1\n",
    "print(\"{}'s {} times test score is {}\".format(name, count, score))\n",
    "\n",
    "s = \"{}'s {} times test score is {}\".format(name, count, score)\n",
    "print(s)\n",
    "\n",
    "s = \"{}'s {} times test score is {}\"\n",
    "print(s.format(name, count, score))"
   ]
  },
  {
   "cell_type": "code",
   "execution_count": 22,
   "metadata": {},
   "outputs": [
    {
     "name": "stdout",
     "output_type": "stream",
     "text": [
      "/The circle area is      78.54 and radius:  5 and PI is    3.14159/\n",
      "/The circle area is 78.54      and radius:5   and PI is 3.14159   /\n",
      "/The circle area is   78.54    and radius: 5  and PI is  3.14159  /\n"
     ]
    }
   ],
   "source": [
    "r = 5\n",
    "PI = 3.1415926\n",
    "area = PI * (r ** 2)\n",
    "print(\"/The circle area is {1:10.2f} and radius:{0:3d} and PI is {2:10.5f}/\".format(r, area, PI)) # right alignment\n",
    "print(\"/The circle area is {1:<10.2f} and radius:{0:<3d} and PI is {2:<10.5f}/\".format(r, area, PI)) # left alignment\n",
    "print(\"/The circle area is {1:^10.2f} and radius:{0:^3d} and PI is {2:^10.5f}/\".format(r, area, PI)) # central alignment"
   ]
  },
  {
   "cell_type": "markdown",
   "metadata": {},
   "source": [
    "* Using f'' or called f-strings"
   ]
  },
  {
   "cell_type": "code",
   "execution_count": 25,
   "metadata": {},
   "outputs": [
    {
     "name": "stdout",
     "output_type": "stream",
     "text": [
      "The Taiwan capital is Taipei\n"
     ]
    }
   ],
   "source": [
    "city = 'Taipei'\n",
    "country = 'Taiwan'\n",
    "print(f'The {country} capital is {city}')"
   ]
  },
  {
   "cell_type": "code",
   "execution_count": 27,
   "metadata": {},
   "outputs": [
    {
     "name": "stdout",
     "output_type": "stream",
     "text": [
      "Boring print Boring print Boring print Boring print Boring print Boring print Boring print Boring print Boring print Boring print \n"
     ]
    }
   ],
   "source": [
    "x = 'Boring print ' * 10\n",
    "print(x)"
   ]
  },
  {
   "cell_type": "markdown",
   "metadata": {},
   "source": [
    "### Print to a file"
   ]
  },
  {
   "cell_type": "code",
   "execution_count": 31,
   "metadata": {},
   "outputs": [],
   "source": [
    "with open('C:\\\\Users\\\\benho\\\\Downloads\\\\temp\\\\print_to_file_test.txt', 'w') as file_stream:\n",
    "    print(\"This is a print to file test\", file = file_stream)\n",
    "\n",
    "with open('C:\\\\Users\\\\benho\\\\Downloads\\\\temp\\\\print_to_file_test.txt', 'a') as file_stream:\n",
    "    print(\"This is a appended print to file test\", file = file_stream)\n",
    "\n"
   ]
  },
  {
   "cell_type": "markdown",
   "metadata": {},
   "source": [
    "## Input"
   ]
  },
  {
   "cell_type": "code",
   "execution_count": 4,
   "metadata": {},
   "outputs": [
    {
     "name": "stdout",
     "output_type": "stream",
     "text": [
      "The result of 5 * 9 + 4 is 49\n"
     ]
    }
   ],
   "source": [
    "operation = \"5 * 9 + 4\"\n",
    "result = eval(operation)\n",
    "print(\"The result of {0} is {1}\".format(operation, result))"
   ]
  },
  {
   "cell_type": "code",
   "execution_count": 5,
   "metadata": {},
   "outputs": [
    {
     "name": "stdout",
     "output_type": "stream",
     "text": [
      "The input is Hello There\n"
     ]
    }
   ],
   "source": [
    "value = input(\"input prompt:\")\n",
    "print(\"The input is\", value)"
   ]
  },
  {
   "cell_type": "code",
   "execution_count": 6,
   "metadata": {},
   "outputs": [
    {
     "name": "stdout",
     "output_type": "stream",
     "text": [
      "Wellcome, Tzu-Pin Kuei\n"
     ]
    }
   ],
   "source": [
    "first_name = input(\"Please input first name:\")\n",
    "last_name = input(\"Please input last name:\")\n",
    "full_name = first_name + ' ' + last_name\n",
    "print(\"Wellcome,\", full_name)"
   ]
  },
  {
   "cell_type": "markdown",
   "metadata": {},
   "source": [
    "## List all builtin functions"
   ]
  },
  {
   "cell_type": "code",
   "execution_count": 1,
   "metadata": {},
   "outputs": [
    {
     "data": {
      "text/plain": [
       "['ArithmeticError',\n",
       " 'AssertionError',\n",
       " 'AttributeError',\n",
       " 'BaseException',\n",
       " 'BaseExceptionGroup',\n",
       " 'BlockingIOError',\n",
       " 'BrokenPipeError',\n",
       " 'BufferError',\n",
       " 'BytesWarning',\n",
       " 'ChildProcessError',\n",
       " 'ConnectionAbortedError',\n",
       " 'ConnectionError',\n",
       " 'ConnectionRefusedError',\n",
       " 'ConnectionResetError',\n",
       " 'DeprecationWarning',\n",
       " 'EOFError',\n",
       " 'Ellipsis',\n",
       " 'EncodingWarning',\n",
       " 'EnvironmentError',\n",
       " 'Exception',\n",
       " 'ExceptionGroup',\n",
       " 'False',\n",
       " 'FileExistsError',\n",
       " 'FileNotFoundError',\n",
       " 'FloatingPointError',\n",
       " 'FutureWarning',\n",
       " 'GeneratorExit',\n",
       " 'IOError',\n",
       " 'ImportError',\n",
       " 'ImportWarning',\n",
       " 'IndentationError',\n",
       " 'IndexError',\n",
       " 'InterruptedError',\n",
       " 'IsADirectoryError',\n",
       " 'KeyError',\n",
       " 'KeyboardInterrupt',\n",
       " 'LookupError',\n",
       " 'MemoryError',\n",
       " 'ModuleNotFoundError',\n",
       " 'NameError',\n",
       " 'None',\n",
       " 'NotADirectoryError',\n",
       " 'NotImplemented',\n",
       " 'NotImplementedError',\n",
       " 'OSError',\n",
       " 'OverflowError',\n",
       " 'PendingDeprecationWarning',\n",
       " 'PermissionError',\n",
       " 'ProcessLookupError',\n",
       " 'RecursionError',\n",
       " 'ReferenceError',\n",
       " 'ResourceWarning',\n",
       " 'RuntimeError',\n",
       " 'RuntimeWarning',\n",
       " 'StopAsyncIteration',\n",
       " 'StopIteration',\n",
       " 'SyntaxError',\n",
       " 'SyntaxWarning',\n",
       " 'SystemError',\n",
       " 'SystemExit',\n",
       " 'TabError',\n",
       " 'TimeoutError',\n",
       " 'True',\n",
       " 'TypeError',\n",
       " 'UnboundLocalError',\n",
       " 'UnicodeDecodeError',\n",
       " 'UnicodeEncodeError',\n",
       " 'UnicodeError',\n",
       " 'UnicodeTranslateError',\n",
       " 'UnicodeWarning',\n",
       " 'UserWarning',\n",
       " 'ValueError',\n",
       " 'Warning',\n",
       " 'WindowsError',\n",
       " 'ZeroDivisionError',\n",
       " '__IPYTHON__',\n",
       " '__build_class__',\n",
       " '__debug__',\n",
       " '__doc__',\n",
       " '__import__',\n",
       " '__loader__',\n",
       " '__name__',\n",
       " '__package__',\n",
       " '__spec__',\n",
       " 'abs',\n",
       " 'aiter',\n",
       " 'all',\n",
       " 'anext',\n",
       " 'any',\n",
       " 'ascii',\n",
       " 'bin',\n",
       " 'bool',\n",
       " 'breakpoint',\n",
       " 'bytearray',\n",
       " 'bytes',\n",
       " 'callable',\n",
       " 'chr',\n",
       " 'classmethod',\n",
       " 'compile',\n",
       " 'complex',\n",
       " 'copyright',\n",
       " 'credits',\n",
       " 'delattr',\n",
       " 'dict',\n",
       " 'dir',\n",
       " 'display',\n",
       " 'divmod',\n",
       " 'enumerate',\n",
       " 'eval',\n",
       " 'exec',\n",
       " 'execfile',\n",
       " 'filter',\n",
       " 'float',\n",
       " 'format',\n",
       " 'frozenset',\n",
       " 'get_ipython',\n",
       " 'getattr',\n",
       " 'globals',\n",
       " 'hasattr',\n",
       " 'hash',\n",
       " 'help',\n",
       " 'hex',\n",
       " 'id',\n",
       " 'input',\n",
       " 'int',\n",
       " 'isinstance',\n",
       " 'issubclass',\n",
       " 'iter',\n",
       " 'len',\n",
       " 'license',\n",
       " 'list',\n",
       " 'locals',\n",
       " 'map',\n",
       " 'max',\n",
       " 'memoryview',\n",
       " 'min',\n",
       " 'next',\n",
       " 'object',\n",
       " 'oct',\n",
       " 'open',\n",
       " 'ord',\n",
       " 'pow',\n",
       " 'print',\n",
       " 'property',\n",
       " 'range',\n",
       " 'repr',\n",
       " 'reversed',\n",
       " 'round',\n",
       " 'runfile',\n",
       " 'set',\n",
       " 'setattr',\n",
       " 'slice',\n",
       " 'sorted',\n",
       " 'staticmethod',\n",
       " 'str',\n",
       " 'sum',\n",
       " 'super',\n",
       " 'tuple',\n",
       " 'type',\n",
       " 'vars',\n",
       " 'zip']"
      ]
     },
     "execution_count": 1,
     "metadata": {},
     "output_type": "execute_result"
    }
   ],
   "source": [
    "dir(__builtins__)"
   ]
  },
  {
   "cell_type": "markdown",
   "metadata": {},
   "source": [
    "#### Pratice Project (Monthly mortgage payment calculation)"
   ]
  },
  {
   "cell_type": "code",
   "execution_count": 11,
   "metadata": {},
   "outputs": [
    {
     "name": "stdout",
     "output_type": "stream",
     "text": [
      "Monthly payment: 65582.36896978291\n",
      "Total payment: 23609652.829121847\n",
      "Total interest payment: 6009652.829122 and monthly interest payment: 200321.760971\n"
     ]
    }
   ],
   "source": [
    "loan = eval(input(\"Please input mortgage:\"))\n",
    "loan_period = eval(input(\"Please input the period of loan:\"))\n",
    "interest_rate = eval(input(\"Please input interest rate:\"))\n",
    "\n",
    "monthly_rate = interest_rate / (12 * 100)\n",
    "monthly_payment = (loan * monthly_rate) / \\\n",
    "                (1 - (1 / (1 + monthly_rate) ** (loan_period * 12)))\n",
    "total_payment = (monthly_payment * loan_period * 12)\n",
    "print(\"Monthly payment:\", monthly_payment)\n",
    "print(\"Total payment:\", total_payment)\n",
    "\n",
    "total_interest_payment = total_payment - loan\n",
    "print(\"Total interest payment: %f and monthly interest payment: %f\" % (total_interest_payment, total_interest_payment / loan_period))"
   ]
  },
  {
   "cell_type": "code",
   "execution_count": null,
   "metadata": {},
   "outputs": [],
   "source": []
  }
 ],
 "metadata": {
  "kernelspec": {
   "display_name": "base",
   "language": "python",
   "name": "python3"
  },
  "language_info": {
   "codemirror_mode": {
    "name": "ipython",
    "version": 3
   },
   "file_extension": ".py",
   "mimetype": "text/x-python",
   "name": "python",
   "nbconvert_exporter": "python",
   "pygments_lexer": "ipython3",
   "version": "3.11.5"
  }
 },
 "nbformat": 4,
 "nbformat_minor": 2
}
