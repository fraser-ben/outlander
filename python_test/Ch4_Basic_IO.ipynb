{
 "cells": [
  {
   "cell_type": "markdown",
   "metadata": {},
   "source": [
    "# Basic IO"
   ]
  },
  {
   "cell_type": "markdown",
   "metadata": {},
   "source": [
    "## Python help()"
   ]
  },
  {
   "cell_type": "code",
   "execution_count": 1,
   "metadata": {},
   "outputs": [
    {
     "name": "stdout",
     "output_type": "stream",
     "text": [
      "Help on built-in function print in module builtins:\n",
      "\n",
      "print(*args, sep=' ', end='\\n', file=None, flush=False)\n",
      "    Prints the values to a stream, or to sys.stdout by default.\n",
      "    \n",
      "    sep\n",
      "      string inserted between values, default a space.\n",
      "    end\n",
      "      string appended after the last value, default a newline.\n",
      "    file\n",
      "      a file-like object (stream); defaults to the current sys.stdout.\n",
      "    flush\n",
      "      whether to forcibly flush the stream.\n",
      "\n"
     ]
    }
   ],
   "source": [
    "help(print)"
   ]
  },
  {
   "cell_type": "markdown",
   "metadata": {},
   "source": [
    "## print format\n",
    "\n",
    "* format by %\n",
    "* using {} and format\n",
    "* using f-string"
   ]
  },
  {
   "cell_type": "code",
   "execution_count": 6,
   "metadata": {},
   "outputs": [
    {
     "name": "stdout",
     "output_type": "stream",
     "text": [
      "num1 + num2 =  555\n",
      "string num1 + num2 =  @@@@ 222333\n",
      "num1 + num2 =  555\tstring num1 + num2 =  @@@@ 222333\n"
     ]
    }
   ],
   "source": [
    "num1 = 222\n",
    "num2 = 333\n",
    "num3 = num1 + num2\n",
    "print('num1 + num2 = ', num3)\n",
    "\n",
    "str1 = str(num1) + str(num2)\n",
    "print('string num1 + num2 = ', str1, sep=' @@@@ ')\n",
    "\n",
    "# print them in one line\n",
    "print('num1 + num2 = ', num3, end = '\\t')\n",
    "print('string num1 + num2 = ', str1, sep=' @@@@ ')"
   ]
  },
  {
   "cell_type": "code",
   "execution_count": 10,
   "metadata": {},
   "outputs": [
    {
     "data": {
      "text/plain": [
       "'PinPin'"
      ]
     },
     "execution_count": 10,
     "metadata": {},
     "output_type": "execute_result"
    }
   ],
   "source": [
    "'%s' % 'PinPin'"
   ]
  },
  {
   "cell_type": "code",
   "execution_count": 11,
   "metadata": {},
   "outputs": [
    {
     "data": {
      "text/plain": [
       "'999'"
      ]
     },
     "execution_count": 11,
     "metadata": {},
     "output_type": "execute_result"
    }
   ],
   "source": [
    "'%d' % 999"
   ]
  },
  {
   "cell_type": "code",
   "execution_count": 13,
   "metadata": {},
   "outputs": [
    {
     "data": {
      "text/plain": [
       "'PinPin is 34 years old'"
      ]
     },
     "execution_count": 13,
     "metadata": {},
     "output_type": "execute_result"
    }
   ],
   "source": [
    "'%s is %d years old' % ('PinPin', 34)"
   ]
  },
  {
   "cell_type": "code",
   "execution_count": 14,
   "metadata": {},
   "outputs": [
    {
     "name": "stdout",
     "output_type": "stream",
     "text": [
      "PinPin is 35 years old\n"
     ]
    }
   ],
   "source": [
    "my_name = 'PinPin'\n",
    "age = 35\n",
    "\n",
    "print('%s is %d years old' % (my_name, age))"
   ]
  },
  {
   "cell_type": "code",
   "execution_count": 20,
   "metadata": {},
   "outputs": [
    {
     "name": "stdout",
     "output_type": "stream",
     "text": [
      "the x binary expression is 0xF\n",
      "and octal expression is 17\n"
     ]
    }
   ],
   "source": [
    "x = 15\n",
    "print('the x binary expression is 0x%X\\nand octal expression is %o' % (x, x))"
   ]
  },
  {
   "cell_type": "code",
   "execution_count": 24,
   "metadata": {},
   "outputs": [
    {
     "name": "stdout",
     "output_type": "stream",
     "text": [
      "1.000000e+07\n",
      "1.000000E+07\n",
      "1.230000e-04\n"
     ]
    }
   ],
   "source": [
    "x = 10000000\n",
    "print('%e' % x)\n",
    "print('%E' % x)\n",
    "y = 0.000123\n",
    "print('%e' % y)"
   ]
  },
  {
   "cell_type": "code",
   "execution_count": 28,
   "metadata": {},
   "outputs": [
    {
     "name": "stdout",
     "output_type": "stream",
     "text": [
      "x = /   100/\n",
      "y = / 10.50/\n",
      "x = /100   /\n",
      "y = /10.50 /\n"
     ]
    }
   ],
   "source": [
    "x = 100\n",
    "y = 10.5\n",
    "print('x = /%6d/' % x) # left alignment\n",
    "print('y = /%6.2f/' % y) # left alignment\n",
    "print('x = /%-6d/' % x) # left alignment\n",
    "print('y = /%-6.2f/' % y) # left alignment\n"
   ]
  },
  {
   "cell_type": "code",
   "execution_count": null,
   "metadata": {},
   "outputs": [],
   "source": []
  }
 ],
 "metadata": {
  "kernelspec": {
   "display_name": "base",
   "language": "python",
   "name": "python3"
  },
  "language_info": {
   "codemirror_mode": {
    "name": "ipython",
    "version": 3
   },
   "file_extension": ".py",
   "mimetype": "text/x-python",
   "name": "python",
   "nbconvert_exporter": "python",
   "pygments_lexer": "ipython3",
   "version": "3.11.5"
  }
 },
 "nbformat": 4,
 "nbformat_minor": 2
}
